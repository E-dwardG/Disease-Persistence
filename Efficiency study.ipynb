{
 "cells": [
  {
   "cell_type": "markdown",
   "id": "3a0518ea-163b-463e-819d-3d1e42cdfc22",
   "metadata": {},
   "source": [
    "Below is our imports, parameters and the find function"
   ]
  },
  {
   "cell_type": "code",
   "execution_count": 1,
   "id": "63fbaf8e-5339-40c6-8b54-9b19587b0adc",
   "metadata": {
    "tags": []
   },
   "outputs": [],
   "source": [
    "import math\n",
    "import numpy as np\n",
    "import matplotlib.pyplot as plt\n",
    "import scipy.stats as st\n",
    "from timeit import default_timer as timer\n",
    "from numba import jit\n",
    "from matplotlib.pyplot import figure\n",
    "\n",
    "gamma = 1\n",
    "#mu is our death rate\n",
    "mu = 1/(50 * 365)\n",
    "N0 = 2**14\n",
    "ND = MaxTime = 10 * 365\n",
    "Number_Infection_States = 7\n",
    "#we atm have uniform transition rates, this can be changed, but average infectious period formula will need to be changed\n",
    "Rate_Transition = gamma\n",
    "Average_Infectious_Period = ((1/gamma)*(Number_Infection_States-4))\n",
    "R0 = 5\n",
    "beta = R0 / Average_Infectious_Period\n",
    "\n",
    "tau = 1/7 #this is our time step, change this to alter accuracy of the simulation\n",
    "\n",
    "@jit(nopython=True)\n",
    "def find(condition):\n",
    "    res, = np.nonzero(np.ravel(condition))\n",
    "    return res"
   ]
  },
  {
   "cell_type": "markdown",
   "id": "14f76475-4d2f-488f-afd2-a19eeaf3de59",
   "metadata": {
    "tags": []
   },
   "source": [
    "First we have the Tau Leap algorithm"
   ]
  },
  {
   "cell_type": "code",
   "execution_count": 2,
   "id": "cdd327fa-af54-4fac-80ab-cb371212a814",
   "metadata": {
    "tags": []
   },
   "outputs": [],
   "source": [
    "def Stochastic_equations_Tau(INP, Pop_Change): \n",
    "    Number_of_Rules = 4 + (3 * Number_Infection_States)\n",
    "    #place to put rates associated with each population change\n",
    "    Rate = np.zeros((Number_of_Rules))\n",
    "    Total_Infections = np.sum(INP) - (INP[1] + INP[-1])\n",
    "    #we assume only certain groups in the infectious period are actually infectious - in this case the last 3 states\n",
    "    Total_Infectious_Population = np.sum(INP[int(1 + np.floor(Number_Infection_States * 5/7)): 8])\n",
    "    #total pop:\n",
    "    N = np.sum(INP[0] + Total_Infections + INP[-1])\n",
    "    #equation: birth\n",
    "    Rate[0] = mu * N\n",
    "    #equation: infection - need to make sure this puts susceptibles into first infection class\n",
    "    Rate[1] = beta * INP[0] * Total_Infectious_Population / N\n",
    "    #infection transitions\n",
    "    Rate[2:(1+Number_Infection_States)] = Rate_Transition * INP[1: Number_Infection_States] * np.ones((Number_Infection_States-1))\n",
    "    #equation: recovery\n",
    "    Rate[1+Number_Infection_States] = gamma * INP[-2]\n",
    "    #equation : recovered death\n",
    "    Rate[2+Number_Infection_States] = mu * INP[-1]\n",
    "    #equation: susceptible death\n",
    "    Rate[3+Number_Infection_States] = mu * INP[0]\n",
    "    #equations: infected deaths\n",
    "    Rate[(4+Number_Infection_States):(4+(2*Number_Infection_States))] = mu * INP[1 : 1+Number_Infection_States] * np.ones((Number_Infection_States))\n",
    "    #equation infectious imports:\n",
    "    Rate[4+(2*Number_Infection_States):4+(3*Number_Infection_States)] = np.sqrt(N) * np.ones((Number_Infection_States)) * 1/(5 * 365 * Number_Infection_States)\n",
    "    #this is where the magic starts\n",
    "    for i in range(4+(3*Number_Infection_States)):\n",
    "        Num=np.random.poisson(Rate[i]*tau);\n",
    "        ## Make sure things don't go negative\n",
    "        Use=min([Num, INP[find(Pop_Change[i,:]<0)]]);\n",
    "        INP=INP+Pop_Change[i,:]*Use;\n",
    "    return [INP]\n",
    "\n",
    "def Stochastic_Iteration_Tau(INPUT):\n",
    "    counter = 0\n",
    "    S = np.array([0])\n",
    "    I = np.zeros((1, Number_Infection_States))\n",
    "    R = np.array([0])\n",
    "    Pop_Change_Matrix = np.reshape(np.append(np.eye(4 + (2 * Number_Infection_States), 2 + Number_Infection_States)\\\n",
    "    - np.eye(4 + (2 * Number_Infection_States), 2 + Number_Infection_States, k = -1)\\\n",
    "    - np.eye(4 + (2 * Number_Infection_States), 2 + Number_Infection_States, k = -(Number_Infection_States + 3))\\\n",
    "    , np.eye(2 + Number_Infection_States)[1:-1]), [4 + ( 3* Number_Infection_States), 2 + Number_Infection_States])\n",
    "    for counter in T:\n",
    "        #print(INPUT)\n",
    "        S = np.concatenate((S, np.array([INPUT[0]])))\n",
    "        I = np.concatenate((I, np.array([INPUT[1:-1]])))\n",
    "        R = np.concatenate((R, np.array([INPUT[-1]])))\n",
    "        INPUT = Stochastic_equations_Tau(INPUT, Pop_Change_Matrix)[0]\n",
    "    return [S, I, R]\n",
    "\n",
    "T = np.arange(0, ND, tau)\n",
    "\n",
    "def Tau_Leap(INPUT):\n",
    "    start = timer()\n",
    "    T = np.arange(0, ND, tau)\n",
    "    [S,I,R] = Stochastic_Iteration_Tau(INPUT)\n",
    "    end = timer()\n",
    "    completion_time = {end - start}\n",
    "    return [T,S,I,R], sorted(completion_time)[0]"
   ]
  },
  {
   "cell_type": "markdown",
   "id": "9f18462b-a9f3-4d98-8aa7-d06dcdd87aeb",
   "metadata": {},
   "source": [
    "Next is Gillespie"
   ]
  },
  {
   "cell_type": "code",
   "execution_count": 3,
   "id": "2a0ff6b8-3191-461c-b327-126882b96b65",
   "metadata": {
    "tags": []
   },
   "outputs": [],
   "source": [
    "def Stochastic_equations_Gillespie(INP,ts, Pop_Change): \n",
    "    #place to put rates associated with each population change\n",
    "    Rate = np.zeros((4 + (3 * Number_Infection_States)))\n",
    "    #This Matrix contains birth, all infections and infection transitions, recovery, death\n",
    "    Total_Infections = np.sum(INP) - (INP[1] + INP[-1])\n",
    "    #we assume only certain groups in the infectious period are actually infectious\n",
    "    Total_Infectious_Population = np.sum(INP[int(1 + np.floor(Number_Infection_States * 3/7)): int(-1 - np.floor(Number_Infection_States * 3/7))])\n",
    "    #total pop:\n",
    "    N = np.sum(INP[0] + Total_Infections + INP[-1])\n",
    "    #equation: birth\n",
    "    Rate[0] = mu * N\n",
    "    #equation: infection - need to make sure this puts susceptibles into first infection class\n",
    "    Rate[1] = beta * INP[0] * Total_Infectious_Population / N\n",
    "    #infection transitions\n",
    "    Rate[2:(1+Number_Infection_States)] = Rate_Transition * INP[1: Number_Infection_States] * np.ones((Number_Infection_States-1))\n",
    "    #equation: recovery\n",
    "    Rate[1+Number_Infection_States] = gamma * INP[-2]\n",
    "    #equation : recovered death\n",
    "    Rate[2+Number_Infection_States] = mu * INP[-1]\n",
    "    #equation: susceptible death\n",
    "    Rate[3+Number_Infection_States] = mu * INP[0]\n",
    "    #equations: infected deaths\n",
    "    Rate[(4+Number_Infection_States):(4+(2*Number_Infection_States))] = mu * INP[1 : 1+Number_Infection_States] * np.ones((Number_Infection_States))\n",
    "    #equation: imports\n",
    "    Rate[4+(2*Number_Infection_States):4+(3*Number_Infection_States)] = np.sqrt(N) * np.ones((Number_Infection_States)) * 1/(5 * 365 * Number_Infection_States)\n",
    "    #this is where the magic starts\n",
    "    ts = -np.log(np.random.rand()) / (np.sum(Rate));\n",
    "    m = min(find(np.cumsum(Rate) >= np.random.rand() * np.sum(Rate)));\n",
    "    if Rate[m] == 0:\n",
    "        for i in range(Number_of_Rules):\n",
    "            if Rate[m] == 0:\n",
    "                m +=1\n",
    "    #we need to make sure no negative numbers can occur\n",
    "    INP[range(2+ Number_Infection_States)] = INP[range(2 + Number_Infection_States)] + Pop_Change[m,:]\n",
    "    return [INP,ts]\n",
    "\n",
    "def Stochastic_Iteration_Gillespie(INPUT):\n",
    "    counter = 0\n",
    "    ts = 0\n",
    "    T = np.array([0])\n",
    "    S = np.array([0])\n",
    "    I = np.zeros((1, Number_Infection_States))\n",
    "    R = np.array([0])\n",
    "    #this matrix was originally in the stochastic equations, but takes quite alot of work to create, so I put it here to speed up the program\n",
    "    Pop_Change_Matrix = np.reshape(np.append(np.eye(4 + (2 * Number_Infection_States), 2 + Number_Infection_States)\\\n",
    "    - np.eye(4 + (2 * Number_Infection_States), 2 + Number_Infection_States, k = -1)\\\n",
    "    - np.eye(4 + (2 * Number_Infection_States), 2 + Number_Infection_States, k = -(Number_Infection_States + 3))\\\n",
    "    , np.eye(2 + Number_Infection_States)[1:-1]), [4 + ( 3* Number_Infection_States), 2 + Number_Infection_States])\n",
    "    while T[counter] < ND:\n",
    "        counter+=1\n",
    "        T = np.concatenate((T, np.array([T[counter-1]+ts])))\n",
    "        S = np.concatenate((S, np.array([INPUT[0]])))\n",
    "        I = np.concatenate((I, np.array([INPUT[1:-1]])))\n",
    "        R = np.concatenate((R, np.array([INPUT[-1]])))\n",
    "        [res,ts] = Stochastic_equations_Gillespie(INPUT,ts, Pop_Change_Matrix)\n",
    "        counter+=1\n",
    "        T = np.concatenate((T, np.array([T[counter-1]])))\n",
    "        S = np.concatenate((S, np.array([INPUT[0]])))\n",
    "        I = np.concatenate((I, np.array([INPUT[1:-1]])))\n",
    "        R = np.concatenate((R, np.array([INPUT[-1]])))\n",
    "        #print(T, S, I, R)\n",
    "        #print(counter, T[counter])\n",
    "    return [T,S,I,R]\n",
    "\n",
    "def Gillespie(INPUT):\n",
    "    start = timer()\n",
    "    [T,S,I,R] = Stochastic_Iteration_Gillespie(INPUT)\n",
    "    end = timer()\n",
    "    completion_time = {end - start}\n",
    "    return [T,S,I,R], sorted(completion_time)[0]"
   ]
  },
  {
   "cell_type": "markdown",
   "id": "7f146f79-bc9d-4f84-aad3-918f8c1d2f3f",
   "metadata": {},
   "source": [
    "Below we make the tools for repeating these methods"
   ]
  },
  {
   "cell_type": "code",
   "execution_count": 4,
   "id": "e8ebdc4f-6a92-4089-a0c7-c8e333010812",
   "metadata": {
    "tags": []
   },
   "outputs": [],
   "source": [
    "def Method_repeater(method, repeats, INPUT):\n",
    "    completion_times = []\n",
    "    STATIC_INPUT = np.copy(INPUT)\n",
    "    for i in range(repeats):\n",
    "        method_execution = method(INPUT)\n",
    "        INPUT = np.copy(STATIC_INPUT)\n",
    "        completion_times = np.append(completion_times, [method_execution[-1]])\n",
    "    return completion_times"
   ]
  },
  {
   "cell_type": "markdown",
   "id": "6efec807-05fb-4c5c-82d9-8918ebb08489",
   "metadata": {},
   "source": [
    "Below is a method for us to run test on the methods. We include all our parameters in here and vary "
   ]
  },
  {
   "cell_type": "code",
   "execution_count": 5,
   "id": "36e12928-a5b3-4efa-a94e-619a7866fda2",
   "metadata": {
    "tags": []
   },
   "outputs": [],
   "source": [
    "def Run_Experiment(pop_sizes, repeater_method, repeater_repeats):\n",
    "    data = []\n",
    "    averages = []\n",
    "    upper_quart = []\n",
    "    lower_quart = []\n",
    "    variance = []\n",
    "    y_err = []\n",
    "    for i in pop_sizes:\n",
    "        print(i)\n",
    "        N0 = np.array(i)\n",
    "        I0 = (np.ceil((mu * N0) /(gamma * Number_Infection_States)) * np.ones(Number_Infection_States))\n",
    "        S0 = np.array(np.floor(gamma * N0 / beta))\n",
    "        R0 = np.array(N0 - S0 - np.sum(I0))\n",
    "        #below creates our input\n",
    "        INPUT = np.zeros((Number_Infection_States+2))\n",
    "        INPUT[0] = S0\n",
    "        INPUT[-1] = R0\n",
    "        for w in range(Number_Infection_States):\n",
    "            INPUT[w+1] = I0[w]\n",
    "        #gets data from our method repeater\n",
    "        new_data = Method_repeater(repeater_method, repeater_repeats, INPUT)\n",
    "        data = np.concatenate((data, new_data))\n",
    "        averages = np.append(averages, np.mean(new_data))\n",
    "        upper_quart = np.append(upper_quart, np.quantile(new_data, 0.75))\n",
    "        lower_quart = np.append(lower_quart, np.quantile(new_data, 0.25))\n",
    "        variance = np.append(variance, np.var(new_data))\n",
    "        #new_confidence = st.t.interval(0.98, df=len(new_data)-1, loc=np.mean(new_data), scale=st.sem(new_data))\n",
    "        z = 2.054\n",
    "        #new_confidence = [np.mean(new_data) - (z*np.std(new_data)/np.sqrt(len(new_data))), np.mean(new_data) + (z*np.std(new_data)/np.sqrt(len(new_data)))]\n",
    "        #if new_confidence[0] < 0:\n",
    "        #    new_confidence = [0, new_confidence[1]]\n",
    "        #    print(\"Something bad has happened\")\n",
    "        #confidence = np.append(confidence, new_confidence)\n",
    "        y_err = np.append(y_err, z*np.std(new_data)/np.sqrt(len(new_data)))\n",
    "    return lower_quart, averages, upper_quart, variance, data, y_err #np.transpose(np.reshape(confidence, [len(averages), 2]))"
   ]
  },
  {
   "cell_type": "code",
   "execution_count": 6,
   "id": "a50360c1-0565-4299-adde-51f99dbe8c21",
   "metadata": {
    "tags": []
   },
   "outputs": [
    {
     "name": "stdout",
     "output_type": "stream",
     "text": [
      "16\n",
      "[   16    32    64   128   256   512  1024  2048  4096  8192 16384 32768\n",
      " 65536]\n",
      "16\n",
      "32\n",
      "64\n",
      "128\n",
      "256\n",
      "512\n",
      "1024\n",
      "2048\n",
      "4096\n",
      "8192\n",
      "16384\n",
      "32768\n",
      "65536\n",
      "Gillespie done {6480.224273300002}\n",
      "16\n"
     ]
    },
    {
     "name": "stderr",
     "output_type": "stream",
     "text": [
      "C:\\Users\\edwar\\AppData\\Local\\Temp\\ipykernel_19968\\1005934847.py:30: DeprecationWarning: The truth value of an empty array is ambiguous. Returning False, but in future this will result in an error. Use `array.size > 0` to check that an array is not empty.\n",
      "  Use=min([Num, INP[find(Pop_Change[i,:]<0)]]);\n"
     ]
    },
    {
     "name": "stdout",
     "output_type": "stream",
     "text": [
      "32\n",
      "64\n",
      "128\n",
      "256\n",
      "512\n",
      "1024\n",
      "2048\n",
      "4096\n",
      "8192\n",
      "16384\n",
      "32768\n",
      "65536\n",
      "Tau done {11891.143272599998}\n",
      "[2.75617000e-02 2.92226000e-02 1.99507000e-02 1.68409000e-02\n",
      " 1.53469000e-02 2.73231000e-02 2.84539000e-02 1.98181000e-02\n",
      " 2.09920000e-02 3.05306000e-02 2.49525000e-02 2.82695000e-02\n",
      " 2.89210000e-02 2.04608000e-02 2.40769000e-02 3.17908000e-02\n",
      " 1.23541000e-02 3.41621000e-02 2.31440000e-02 3.20383000e-02\n",
      " 3.94494000e-02 2.31697000e-02 2.20710000e-02 3.33285000e-02\n",
      " 1.98541000e-02 2.56207000e-02 3.23758000e-02 2.60714000e-02\n",
      " 3.07895000e-02 3.32259000e-02 1.65022000e-02 2.91294000e-02\n",
      " 1.84064000e-02 2.93413000e-02 2.14590000e-02 2.37403000e-02\n",
      " 2.61638000e-02 2.77043000e-02 2.58530000e-02 2.62063000e-02\n",
      " 1.69946000e-02 1.48319000e-02 2.36849000e-02 2.48948000e-02\n",
      " 2.59714000e-02 1.36305000e-02 2.72183000e-02 2.69131000e-02\n",
      " 2.97727000e-02 2.66938000e-02 4.02573000e-02 4.28275000e-02\n",
      " 4.41615000e-02 3.74808000e-02 3.27624000e-02 3.75097000e-02\n",
      " 3.16112000e-02 3.81640000e-02 3.96533000e-02 5.08020000e-02\n",
      " 2.28740000e-02 4.49493000e-02 4.20894000e-02 3.49866000e-02\n",
      " 2.43801000e-02 2.64150000e-02 3.49357000e-02 4.84797000e-02\n",
      " 4.36526000e-02 5.59948000e-02 2.43862000e-02 5.99349000e-02\n",
      " 3.83316000e-02 4.36614000e-02 3.12969000e-02 3.49493000e-02\n",
      " 3.94008000e-02 4.04440000e-02 3.61874000e-02 4.92827000e-02\n",
      " 1.96500000e-02 5.33359000e-02 3.90608000e-02 2.47819000e-02\n",
      " 3.47055000e-02 4.01324000e-02 2.21058000e-02 2.42671000e-02\n",
      " 1.86249000e-02 5.32002000e-02 2.46443000e-02 2.97592000e-02\n",
      " 3.35406000e-02 2.66719000e-02 3.73436000e-02 4.08645000e-02\n",
      " 4.20311000e-02 2.97320000e-02 4.49407000e-02 2.74434000e-02\n",
      " 4.14378000e-02 4.56112000e-02 6.11030000e-02 7.17264000e-02\n",
      " 4.70030000e-02 8.51038000e-02 4.49700000e-02 4.09519000e-02\n",
      " 4.08283000e-02 5.28920000e-02 5.02173000e-02 5.08412000e-02\n",
      " 4.61010000e-02 4.63419000e-02 4.13207000e-02 4.94740000e-02\n",
      " 5.50039000e-02 6.21685000e-02 5.86606000e-02 4.28006000e-02\n",
      " 4.84568000e-02 3.97018000e-02 4.99761000e-02 4.71873000e-02\n",
      " 5.67548000e-02 6.53977000e-02 5.25879000e-02 3.33354000e-02\n",
      " 6.33337000e-02 5.55238000e-02 6.42331000e-02 4.59610000e-02\n",
      " 5.55222000e-02 6.13008000e-02 4.20770000e-02 5.30572000e-02\n",
      " 3.86230000e-02 4.69318000e-02 6.05224000e-02 5.78049000e-02\n",
      " 3.52696000e-02 4.41901000e-02 4.16385000e-02 7.58098000e-02\n",
      " 6.17699000e-02 6.76346000e-02 4.48808000e-02 5.29198000e-02\n",
      " 5.76097000e-02 4.37394000e-02 1.03002700e-01 5.72358000e-02\n",
      " 6.82267000e-02 7.37910000e-02 7.39258000e-02 6.54892000e-02\n",
      " 4.70433000e-02 7.58973000e-02 1.05513200e-01 8.82827000e-02\n",
      " 1.01078300e-01 6.17788000e-02 5.25549000e-02 7.20457000e-02\n",
      " 8.62221000e-02 9.51065000e-02 4.97804000e-02 5.36678000e-02\n",
      " 8.02313000e-02 7.94043000e-02 8.50045000e-02 7.39729000e-02\n",
      " 1.12085500e-01 9.19841000e-02 9.91985000e-02 7.48939000e-02\n",
      " 6.62555000e-02 7.74516000e-02 7.64919000e-02 6.41813000e-02\n",
      " 8.25583000e-02 5.60110000e-02 5.28139000e-02 9.69528000e-02\n",
      " 8.83275000e-02 6.80571000e-02 6.45013000e-02 7.27783000e-02\n",
      " 4.74696000e-02 9.68132000e-02 6.99352000e-02 9.07992000e-02\n",
      " 7.50375000e-02 1.14461800e-01 7.56758000e-02 6.40227000e-02\n",
      " 4.66268000e-02 1.00549300e-01 1.08333800e-01 1.03838000e-01\n",
      " 1.17390100e-01 9.19418000e-02 1.69053700e-01 1.12194900e-01\n",
      " 1.16290200e-01 1.36984400e-01 1.39998200e-01 1.22232800e-01\n",
      " 1.29428900e-01 1.41126800e-01 1.31916800e-01 1.19821800e-01\n",
      " 1.42263500e-01 1.45618700e-01 9.29441000e-02 1.41110600e-01\n",
      " 1.24248300e-01 1.50881800e-01 9.14111000e-02 2.29393600e-01\n",
      " 1.58850100e-01 1.09900400e-01 1.37073000e-01 1.41192200e-01\n",
      " 1.07491000e-01 1.03233900e-01 1.13626700e-01 1.27141100e-01\n",
      " 1.13940800e-01 9.35379000e-02 1.34303500e-01 1.41857300e-01\n",
      " 1.63960000e-01 1.39892800e-01 1.65056800e-01 1.07194900e-01\n",
      " 1.58043100e-01 1.39202100e-01 1.18091000e-01 1.58757600e-01\n",
      " 1.32429600e-01 1.28922100e-01 1.47379600e-01 1.75156900e-01\n",
      " 1.12895100e-01 1.28681700e-01 1.21251600e-01 1.13923900e-01\n",
      " 9.90546000e-02 1.15521700e-01 1.74825500e-01 2.73874300e-01\n",
      " 1.83019100e-01 1.84888800e-01 1.76431600e-01 1.84452700e-01\n",
      " 2.44667700e-01 1.63777400e-01 2.03298500e-01 2.24575400e-01\n",
      " 1.85166300e-01 2.70052800e-01 2.45626200e-01 1.44152100e-01\n",
      " 1.75590200e-01 2.07827500e-01 1.95072000e-01 1.67445000e-01\n",
      " 1.32579700e-01 1.70564700e-01 1.92134800e-01 1.95901900e-01\n",
      " 1.38788100e-01 1.59827100e-01 1.52294600e-01 2.52989900e-01\n",
      " 1.31429000e-01 1.45414200e-01 1.99595200e-01 1.92410100e-01\n",
      " 2.18842200e-01 2.24596600e-01 1.24082100e-01 1.66918600e-01\n",
      " 1.55423900e-01 2.14547900e-01 1.80654500e-01 2.02617600e-01\n",
      " 2.19236400e-01 1.71172900e-01 1.81360200e-01 1.18095300e-01\n",
      " 1.35387000e-01 1.57478300e-01 1.91616100e-01 1.26948700e-01\n",
      " 1.88030900e-01 1.75980000e-01 1.77751700e-01 1.51286700e-01\n",
      " 3.73894200e-01 2.79679100e-01 2.65124000e-01 2.49539000e-01\n",
      " 2.31006200e-01 2.22296100e-01 2.58815800e-01 3.51193500e-01\n",
      " 3.28490600e-01 2.79649200e-01 2.50447200e-01 3.44814900e-01\n",
      " 3.42632600e-01 3.51591300e-01 3.19983900e-01 3.69789500e-01\n",
      " 3.40554400e-01 4.73665000e-01 3.53116500e-01 3.43275800e-01\n",
      " 3.14995600e-01 3.43753800e-01 3.28879100e-01 3.40133500e-01\n",
      " 3.09990100e-01 2.64811200e-01 2.89982300e-01 2.84775500e-01\n",
      " 2.48016600e-01 3.85410900e-01 2.84318700e-01 3.47316200e-01\n",
      " 3.47244800e-01 3.09015700e-01 2.45897200e-01 3.14513700e-01\n",
      " 2.48873800e-01 3.28083100e-01 3.32433600e-01 3.15615600e-01\n",
      " 2.32651000e-01 2.35124100e-01 3.22880100e-01 3.58571100e-01\n",
      " 3.13079500e-01 3.70965300e-01 2.46378400e-01 2.93531100e-01\n",
      " 2.72337200e-01 4.41720500e-01 5.94841000e-01 5.57770000e-01\n",
      " 4.63229600e-01 4.64208600e-01 5.09593100e-01 5.72261400e-01\n",
      " 5.49486000e-01 7.05717100e-01 5.54159800e-01 6.08194800e-01\n",
      " 6.46709700e-01 5.58741100e-01 5.35953700e-01 4.90947100e-01\n",
      " 5.09669700e-01 5.26467300e-01 4.71101100e-01 4.82706000e-01\n",
      " 5.30517800e-01 4.03449600e-01 4.19787500e-01 5.45920800e-01\n",
      " 4.18775300e-01 4.61682100e-01 4.33896800e-01 5.13836500e-01\n",
      " 6.24241900e-01 5.81932900e-01 5.40060500e-01 5.42673400e-01\n",
      " 4.80829600e-01 5.02634700e-01 5.81392000e-01 5.88103400e-01\n",
      " 3.83436400e-01 6.09974000e-01 6.09633500e-01 5.28442500e-01\n",
      " 5.42369700e-01 5.17214500e-01 7.88873800e-01 5.58675100e-01\n",
      " 5.16748400e-01 4.56226300e-01 3.84272200e-01 4.49920700e-01\n",
      " 5.37960300e-01 5.52112100e-01 4.95481500e-01 5.15138300e-01\n",
      " 9.84281100e-01 8.32965800e-01 8.68122500e-01 9.68447000e-01\n",
      " 9.34926400e-01 8.38092100e-01 8.50544500e-01 1.06235900e+00\n",
      " 9.52498400e-01 8.12943500e-01 9.55710300e-01 9.38215500e-01\n",
      " 1.10595700e+00 9.13358300e-01 1.13691530e+00 8.89490100e-01\n",
      " 9.34684000e-01 7.57508200e-01 1.02185810e+00 8.70089800e-01\n",
      " 8.45405100e-01 9.30185300e-01 8.73833900e-01 8.39860300e-01\n",
      " 1.01432560e+00 8.31503800e-01 9.46995900e-01 9.71322300e-01\n",
      " 1.16303470e+00 1.21305210e+00 9.16506700e-01 8.53121400e-01\n",
      " 8.43615400e-01 7.33210300e-01 9.77574800e-01 9.70700900e-01\n",
      " 8.90461800e-01 8.86319600e-01 8.09547900e-01 8.86764500e-01\n",
      " 9.02532400e-01 8.19882200e-01 8.29993200e-01 8.37134500e-01\n",
      " 9.44672600e-01 9.38353300e-01 7.98385100e-01 1.29624810e+00\n",
      " 8.86509200e-01 9.22075900e-01 1.83307700e+00 1.73572520e+00\n",
      " 2.05481530e+00 1.81988510e+00 2.08707690e+00 1.88045680e+00\n",
      " 2.23869800e+00 1.87272520e+00 1.81208910e+00 1.61823300e+00\n",
      " 1.75400100e+00 1.75499560e+00 1.80346000e+00 1.64609670e+00\n",
      " 1.94405800e+00 2.10558090e+00 1.78485300e+00 1.89811220e+00\n",
      " 1.98329410e+00 1.92815910e+00 1.53749760e+00 1.81463280e+00\n",
      " 1.87333710e+00 2.16330660e+00 2.02069880e+00 1.41966310e+00\n",
      " 1.60072640e+00 1.71956770e+00 1.81322070e+00 1.62921190e+00\n",
      " 1.74460700e+00 1.48152080e+00 2.25525850e+00 2.11430140e+00\n",
      " 1.74784440e+00 1.82279460e+00 1.64010750e+00 1.87708390e+00\n",
      " 1.67915030e+00 1.50412000e+00 1.69938180e+00 2.07557930e+00\n",
      " 2.04065320e+00 1.95765720e+00 1.90133850e+00 1.49006650e+00\n",
      " 1.70217840e+00 1.67367000e+00 1.86192640e+00 2.03085100e+00\n",
      " 6.89067160e+00 6.72469100e+00 7.35288450e+00 6.53123650e+00\n",
      " 7.35096340e+00 6.06215870e+00 7.50370240e+00 6.79226730e+00\n",
      " 6.07112340e+00 8.94698810e+00 6.37792060e+00 8.85976360e+00\n",
      " 8.65184600e+00 6.71530820e+00 6.09656200e+00 7.37370830e+00\n",
      " 6.50860780e+00 6.93577570e+00 8.01153140e+00 7.19092150e+00\n",
      " 7.92022800e+00 6.91354100e+00 6.96654520e+00 5.74546590e+00\n",
      " 7.93724320e+00 6.57833820e+00 6.04171000e+00 8.58267520e+00\n",
      " 6.51702340e+00 8.03450470e+00 6.10358980e+00 7.46861210e+00\n",
      " 7.19387990e+00 6.09426150e+00 7.34148770e+00 6.34236620e+00\n",
      " 7.39422350e+00 8.29928030e+00 6.62064210e+00 6.07602010e+00\n",
      " 5.78126900e+00 6.28650040e+00 5.90361770e+00 6.36660460e+00\n",
      " 7.38957010e+00 7.34435430e+00 5.58709090e+00 7.31531080e+00\n",
      " 7.90667000e+00 8.17080680e+00 2.95413071e+01 2.81426931e+01\n",
      " 2.84985580e+01 2.32737450e+01 2.48021233e+01 2.35804443e+01\n",
      " 2.66304406e+01 2.51477829e+01 2.50971245e+01 2.75411967e+01\n",
      " 2.51305906e+01 2.36777824e+01 2.45383022e+01 2.82214359e+01\n",
      " 2.74093899e+01 2.18871522e+01 2.30471353e+01 2.45818025e+01\n",
      " 2.43724126e+01 2.71901376e+01 2.68529792e+01 2.61572521e+01\n",
      " 2.48280530e+01 2.63183632e+01 2.77780202e+01 2.60673863e+01\n",
      " 2.67910371e+01 2.56243989e+01 2.59564553e+01 2.64894357e+01\n",
      " 2.52193180e+01 2.46765864e+01 2.58616407e+01 2.37225212e+01\n",
      " 2.65694405e+01 2.79575924e+01 3.06798290e+01 3.01940966e+01\n",
      " 2.33356818e+01 2.68200665e+01 2.68525614e+01 2.58228665e+01\n",
      " 2.42922421e+01 2.50659733e+01 2.52325013e+01 2.46802930e+01\n",
      " 2.78511662e+01 2.41327185e+01 2.38153164e+01 2.89390343e+01\n",
      " 9.19919293e+01 9.25202663e+01 8.84065635e+01 9.65777966e+01\n",
      " 9.21829200e+01 9.46415203e+01 8.69194035e+01 9.43756352e+01\n",
      " 8.52207033e+01 9.84292983e+01 9.44868067e+01 1.00171442e+02\n",
      " 9.59760326e+01 9.68418723e+01 9.03543775e+01 9.06057685e+01\n",
      " 9.74994602e+01 8.59716334e+01 9.36466457e+01 9.27619112e+01\n",
      " 9.32421800e+01 8.79502844e+01 9.18203814e+01 8.96887425e+01\n",
      " 8.90921886e+01 8.88097317e+01 9.14627553e+01 9.52367278e+01\n",
      " 8.71378363e+01 9.40369691e+01 8.09599147e+01 9.51650942e+01\n",
      " 9.37828989e+01 8.59015168e+01 8.74021847e+01 9.55654010e+01\n",
      " 8.64767074e+01 9.71172071e+01 9.19755957e+01 8.88262846e+01\n",
      " 1.04491330e+02 9.31330473e+01 9.15639386e+01 9.03874234e+01\n",
      " 9.41969522e+01 9.59560076e+01 8.90209207e+01 1.03051696e+02\n",
      " 9.89737296e+01 9.51123302e+01]\n"
     ]
    }
   ],
   "source": [
    "Run_Experiment([16], Gillespie, 3)\n",
    "Population_series = [16]\n",
    "while Population_series[-1] < 40000:\n",
    "    Population_series = np.append(Population_series, Population_series[-1] * 2)\n",
    "\n",
    "print(Population_series)\n",
    "    \n",
    "start = timer()\n",
    "Gillespie_data = Run_Experiment(Population_series, Gillespie, 50)\n",
    "end = timer()\n",
    "print(\"Gillespie done\", {end - start})\n",
    "\n",
    "start = timer()\n",
    "Tau_data = Run_Experiment(Population_series, Tau_Leap, 50)\n",
    "end = timer()\n",
    "print(\"Tau done\", {end - start})\n",
    "\n",
    "print(Gillespie_data[4])"
   ]
  },
  {
   "cell_type": "code",
   "execution_count": 20,
   "id": "96723895-997c-4176-8656-b1622658f057",
   "metadata": {
    "tags": []
   },
   "outputs": [
    {
     "data": {
      "image/png": "[encoded data removed]",
      "text/plain": [
       "<Figure size 640x480 with 1 Axes>"
      ]
     },
     "metadata": {},
     "output_type": "display_data"
    }
   ],
   "source": [
    "from matplotlib.ticker import ScalarFormatter\n",
    "fig, ax = plt.subplots()\n",
    "ax.set_xscale('log')\n",
    "#ax.set_yscale('log')\n",
    "Population_graph_series = []\n",
    "\n",
    "plt.errorbar(Population_series, Gillespie_data[1], yerr = Gillespie_data[-1], label = 'Gillespie')\n",
    "plt.errorbar(Population_series, Tau_data[1], yerr= Tau_data[-1] , label = 'Tau')\n",
    "plt.ylabel ('Time taken (seconds)')\n",
    "plt.xlabel ('Total population size')\n",
    "for axis in [ax.xaxis, ax.yaxis]:\n",
    "    formatter = ScalarFormatter()\n",
    "    formatter.set_scientific(False)\n",
    "    axis.set_major_formatter(formatter)\n",
    "plt.legend()\n",
    "plt.axvline(x = 2**14)\n",
    "plt.savefig('Efficiency study (Tau vs Gillespie)')\n",
    "plt.show()"
   ]
  },
  {
   "cell_type": "markdown",
   "id": "2eff59ec-a7a3-408c-8cde-72eb7b5d2967",
   "metadata": {},
   "source": [
    "Below we see the average time taken for a population of size $2^{14}$"
   ]
  },
  {
   "cell_type": "code",
   "execution_count": 8,
   "id": "47c890fa-46dd-4908-aa83-0a93c2916a89",
   "metadata": {
    "tags": []
   },
   "outputs": [
    {
     "name": "stdout",
     "output_type": "stream",
     "text": [
      "92.54239928999988\n",
      "18.809611796000098\n"
     ]
    }
   ],
   "source": [
    "print(Gillespie_data[1][-1])\n",
    "print(Tau_data[1][-1])"
   ]
  },
  {
   "cell_type": "markdown",
   "id": "3f68346b-3149-4eec-9e2d-1f37e66c54a9",
   "metadata": {},
   "source": [
    "And the standard deviation"
   ]
  },
  {
   "cell_type": "code",
   "execution_count": 9,
   "id": "b9e126a9-a111-4196-9fd3-75e7db63c7e6",
   "metadata": {
    "tags": []
   },
   "outputs": [
    {
     "name": "stdout",
     "output_type": "stream",
     "text": [
      "4.594003807281769\n",
      "0.2568184068429643\n"
     ]
    }
   ],
   "source": [
    "print(np.sqrt(Gillespie_data[3][-1]))\n",
    "print(np.sqrt(Tau_data[3][-1]))"
   ]
  },
  {
   "cell_type": "markdown",
   "id": "fcaffaaf-b48c-4a03-96a4-192e4e310dc4",
   "metadata": {
    "tags": []
   },
   "source": [
    "Below we have histograms for the time taken for all our runs of the HKO and Gillespie algorithm at population size $2^{14}$"
   ]
  },
  {
   "cell_type": "code",
   "execution_count": 10,
   "id": "fe481a92-9bb0-4059-95c6-d6315ae32077",
   "metadata": {
    "tags": []
   },
   "outputs": [
    {
     "data": {
      "image/png": "[encoded data removed]",
      "text/plain": [
       "<Figure size 640x480 with 2 Axes>"
      ]
     },
     "metadata": {},
     "output_type": "display_data"
    }
   ],
   "source": [
    "plt.subplot(2, 1, 1)\n",
    "plt.hist(Gillespie_data[4][-10:,], bins = 10)\n",
    "plt.ylabel ('Frequency')\n",
    "plt.xlabel ('Time taken for Gillespie algorithm (s)')\n",
    "plt.subplot(2, 1, 2)\n",
    "plt.hist(Tau_data[4][-10:,], bins = 10)\n",
    "plt.ylabel ('Frequency')\n",
    "plt.xlabel ('Time taken for Tau algorithm (s)')\n",
    "plt.tight_layout()\n",
    "plt.savefig('Histograms efficiency study (2 classes)')\n",
    "plt.show()"
   ]
  },
  {
   "cell_type": "code",
   "execution_count": null,
   "id": "ce30b523-f93b-4698-a46b-2388c42f0c37",
   "metadata": {},
   "outputs": [],
   "source": []
  }
 ],
 "metadata": {
  "kernelspec": {
   "display_name": "Python 3 (ipykernel)",
   "language": "python",
   "name": "python3"
  },
  "language_info": {
   "codemirror_mode": {
    "name": "ipython",
    "version": 3
   },
   "file_extension": ".py",
   "mimetype": "text/x-python",
   "name": "python",
   "nbconvert_exporter": "python",
   "pygments_lexer": "ipython3",
   "version": "3.11.5"
  }
 },
 "nbformat": 4,
 "nbformat_minor": 5
}
